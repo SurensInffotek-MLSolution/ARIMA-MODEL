{
 "cells": [
  {
   "cell_type": "code",
   "execution_count": 3,
   "metadata": {},
   "outputs": [],
   "source": [
    "import pandas as pd\n",
    "import matplotlib.mlab as mlab\n",
    "import matplotlib.pyplot as plt\n",
    "import numpy as np\n",
    "import math\n",
    "from statsmodels.tsa.stattools import acf, pacf\n",
    "import statsmodels.tsa.stattools as ts\n",
    "from statsmodels.tsa.arima_model import ARIMA"
   ]
  },
  {
   "cell_type": "code",
   "execution_count": 4,
   "metadata": {},
   "outputs": [],
   "source": [
    "#reading the csv file\n",
    "bbazar = pd.read_excel('bigbazar_dataset.xlsx')"
   ]
  },
  {
   "cell_type": "code",
   "execution_count": 5,
   "metadata": {},
   "outputs": [
    {
     "name": "stdout",
     "output_type": "stream",
     "text": [
      "transactionDate           datetime64[ns]\n",
      "sale_price_after_promo           float64\n",
      "dtype: object\n"
     ]
    }
   ],
   "source": [
    "ts_data = bbazar[['transactionDate','sale_price_after_promo']]\n",
    "print(ts_data.dtypes)"
   ]
  },
  {
   "cell_type": "code",
   "execution_count": 6,
   "metadata": {},
   "outputs": [],
   "source": [
    "#groups the records by month and shows the sales for each month\n",
    "per = ts_data.transactionDate.dt.to_period('M')\n",
    "g = ts_data.groupby(per)\n",
    "final = g.sum().reset_index()"
   ]
  },
  {
   "cell_type": "code",
   "execution_count": 7,
   "metadata": {},
   "outputs": [],
   "source": [
    "#this will add last day of the month to each record\n",
    "final['transactionDate'] = pd.PeriodIndex(final['transactionDate'], freq='M').to_timestamp(how='end')"
   ]
  },
  {
   "cell_type": "code",
   "execution_count": 33,
   "metadata": {},
   "outputs": [],
   "source": [
    "#final"
   ]
  },
  {
   "cell_type": "code",
   "execution_count": 8,
   "metadata": {},
   "outputs": [],
   "source": [
    "Sales_price = final['sale_price_after_promo']"
   ]
  },
  {
   "cell_type": "code",
   "execution_count": 9,
   "metadata": {},
   "outputs": [
    {
     "data": {
      "image/png": "[encoded data removed]",
      "text/plain": [
       "<Figure size 432x288 with 1 Axes>"
      ]
     },
     "metadata": {},
     "output_type": "display_data"
    }
   ],
   "source": [
    "#taking log of the prices because we will get accurate forecasts\n",
    "logprice = np.log(Sales_price)\n",
    "logprice\n",
    "plt.plot(logprice)\n",
    "plt.show()"
   ]
  },
  {
   "cell_type": "code",
   "execution_count": 23,
   "metadata": {},
   "outputs": [
    {
     "name": "stdout",
     "output_type": "stream",
     "text": [
      "                             ARIMA Model Results                              \n",
      "==============================================================================\n",
      "Dep. Variable:                    D.y   No. Observations:                   25\n",
      "Model:                 ARIMA(0, 1, 0)   Log Likelihood                 -12.927\n",
      "Method:                           css   S.D. of innovations              0.406\n",
      "Date:                Tue, 16 Oct 2018   AIC                             29.855\n",
      "Time:                        15:22:48   BIC                             32.292\n",
      "Sample:                             1   HQIC                            30.531\n",
      "                                                                              \n",
      "==============================================================================\n",
      "                 coef    std err          z      P>|z|      [0.025      0.975]\n",
      "------------------------------------------------------------------------------\n",
      "const          0.0513      0.081      0.632      0.534      -0.108       0.210\n",
      "==============================================================================\n"
     ]
    }
   ],
   "source": [
    "price_matrix = logprice.values\n",
    "model = ARIMA(price_matrix, order=(0,1,0))\n",
    "model_fit = model.fit(disp=0)\n",
    "print(model_fit.summary())"
   ]
  },
  {
   "cell_type": "code",
   "execution_count": 32,
   "metadata": {},
   "outputs": [
    {
     "data": {
      "text/plain": [
       "array([115283.37430321, 121348.72156461, 127733.18194725, 134453.54479225,\n",
       "       141527.48277003, 148973.59835452, 156811.4727424 ])"
      ]
     },
     "execution_count": 32,
     "metadata": {},
     "output_type": "execute_result"
    }
   ],
   "source": [
    "predictions = model_fit.predict(27,32, typ='levels')\n",
    "predictions\n",
    "predictionsadjusted=np.exp(predictions)\n",
    "predictionsadjusted"
   ]
  }
 ],
 "metadata": {
  "kernelspec": {
   "display_name": "Python 3",
   "language": "python",
   "name": "python3"
  },
  "language_info": {
   "codemirror_mode": {
    "name": "ipython",
    "version": 3
   },
   "file_extension": ".py",
   "mimetype": "text/x-python",
   "name": "python",
   "nbconvert_exporter": "python",
   "pygments_lexer": "ipython3",
   "version": "3.6.5"
  }
 },
 "nbformat": 4,
 "nbformat_minor": 2
}
